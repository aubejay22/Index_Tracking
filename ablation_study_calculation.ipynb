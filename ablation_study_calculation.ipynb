{
 "cells": [
  {
   "cell_type": "code",
   "execution_count": 43,
   "metadata": {},
   "outputs": [],
   "source": [
    "from scipy.integrate import quad\n",
    "import numpy as np\n",
    "\n",
    "a = 70\n",
    "eps = 1e-4\n",
    "N = 100"
   ]
  },
  {
   "cell_type": "code",
   "execution_count": 44,
   "metadata": {},
   "outputs": [
    {
     "name": "stdout",
     "output_type": "stream",
     "text": [
      "(4.991250017864525e-05, 5.54140069149392e-19)\n",
      "(0.00990210257942779, 6.682208143198669e-10)\n",
      "0.9952015079606435\n",
      "Good!\n"
     ]
    }
   ],
   "source": [
    "def pos_f(x):\n",
    "    return 1 / (1 + (np.e)**(-a*(x-eps)))\n",
    "\n",
    "def neg_f(x):\n",
    "    return 1 - 1 / (1 + (np.e)**(-a*(x-eps)))\n",
    "\n",
    "e1 = quad(pos_f, 0, eps) \n",
    "e2 = quad(neg_f, eps, 1)\n",
    "print(e1)\n",
    "print(e2)\n",
    "e = e1[0] + e2[0]\n",
    "print(N*e)\n",
    "if N*e < 1:\n",
    "    print(\"Good!\")\n",
    "else:\n",
    "    print(\"fail..\")"
   ]
  },
  {
   "cell_type": "code",
   "execution_count": null,
   "metadata": {},
   "outputs": [],
   "source": []
  },
  {
   "cell_type": "code",
   "execution_count": null,
   "metadata": {},
   "outputs": [],
   "source": []
  }
 ],
 "metadata": {
  "kernelspec": {
   "display_name": "ma",
   "language": "python",
   "name": "python3"
  },
  "language_info": {
   "codemirror_mode": {
    "name": "ipython",
    "version": 3
   },
   "file_extension": ".py",
   "mimetype": "text/x-python",
   "name": "python",
   "nbconvert_exporter": "python",
   "pygments_lexer": "ipython3",
   "version": "3.9.16"
  }
 },
 "nbformat": 4,
 "nbformat_minor": 2
}
