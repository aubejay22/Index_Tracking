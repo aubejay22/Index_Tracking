{
 "cells": [
  {
   "cell_type": "code",
   "execution_count": 3,
   "metadata": {},
   "outputs": [],
   "source": [
    "import torch\n",
    "import torch.nn as nn\n",
    "import pandas as pd\n",
    "import numpy as np\n",
    "from datetime import datetime\n",
    "from dateutil.relativedelta import relativedelta as rd\n",
    "import time\n",
    "import math\n",
    "from sklearn.metrics import mean_squared_error\n",
    "\n",
    "from utils import *"
   ]
  },
  {
   "cell_type": "code",
   "execution_count": 4,
   "metadata": {},
   "outputs": [],
   "source": [
    "class Argument(object):\n",
    "    def __init__(self, **kwargs):\n",
    "        self.__dict__.update(kwargs)\n",
    "\n",
    "argments = {\n",
    "    'data_path': \"../NCSOFT/financial_data\",\n",
    "    'result_path': \"../results\",\n",
    "    'start_date': \"2018-01-02\",\n",
    "    'end_date': \"2018-12-31\",\n",
    "    }\n",
    "\n",
    "args = Argument(**argments)"
   ]
  },
  {
   "cell_type": "code",
   "execution_count": 5,
   "metadata": {},
   "outputs": [],
   "source": [
    "df_price, df_return, df_multifactor, start_date, end_date, start_year, end_year = read_data(args)\n",
    "\n",
    "df_sp = pd.read_csv('./Index-tracking-portfolio-optimization-using-deep-learning/sp500.csv')\n",
    "# df_sp = df_sp.set_index('Date')"
   ]
  },
  {
   "cell_type": "code",
   "execution_count": 6,
   "metadata": {},
   "outputs": [],
   "source": [
    "class SNN(nn.Module):\n",
    "    def __init__(self, input_dim, hidden_size, num_classes):\n",
    "        super(SNN, self).__init__()\n",
    "        self.fc1 = nn.Linear(input_dim, hidden_size)\n",
    "        self.fc2 = nn.Linear(hidden_size, num_classes)\n",
    "        \n",
    "        self.relu = nn.ReLU()\n",
    "        self.softmax = nn.Softmax(dim=0)\n",
    "        \n",
    "        self.gumbel_softmax = nn.functional.gumbel_softmax()\n",
    "        \n",
    "        \n",
    "    def forward(self, w_tilde, S, tau):\n",
    "        # Auxiliary Asset Selection Probabilities\n",
    "        pi = np.exp(S/tau) / np.sum(np.exp(S/tau))\n",
    "        \n",
    "        # Gumbel-Max Trick #!\n",
    "        z = self.gumbel_softmax(pi)\n",
    "        \n",
    "        # Element-wise exponentiation -> ensures positivity\n",
    "        w_hat = np.exp(w_tilde)\n",
    "        # Element-wise product with z -> allocates capital only to picked stocks\n",
    "        w_bar = w_hat * z\n",
    "        # Normalization -> ensures all capital is allocated\n",
    "        w = w_bar / np.sum(w_bar)\n",
    "        \n",
    "        return w\n",
    "\n",
    "    \n",
    "        "
   ]
  },
  {
   "cell_type": "code",
   "execution_count": 13,
   "metadata": {},
   "outputs": [
    {
     "name": "stdout",
     "output_type": "stream",
     "text": [
      "2480\n"
     ]
    }
   ],
   "source": [
    "stock_list = df_price.columns.values.tolist()\n",
    "N = len(stock_list)\n",
    "K = 10\n",
    "\n",
    "print(N)"
   ]
  },
  {
   "cell_type": "code",
   "execution_count": 14,
   "metadata": {},
   "outputs": [],
   "source": [
    "w_tilde = torch.randn(N, 1, requires_grad=True)\n",
    "S = torch.randn(K, N, requires_grad = True)"
   ]
  },
  {
   "cell_type": "code",
   "execution_count": null,
   "metadata": {},
   "outputs": [],
   "source": [
    "learning_rate = 0.01\n",
    "optimizer = torch.optim.SGD([w_tilde, S], lr=learning_rate)\n",
    "\n",
    "epochs = 1000"
   ]
  },
  {
   "cell_type": "code",
   "execution_count": null,
   "metadata": {},
   "outputs": [],
   "source": []
  },
  {
   "cell_type": "code",
   "execution_count": null,
   "metadata": {},
   "outputs": [],
   "source": []
  },
  {
   "cell_type": "code",
   "execution_count": null,
   "metadata": {},
   "outputs": [],
   "source": []
  },
  {
   "cell_type": "code",
   "execution_count": null,
   "metadata": {},
   "outputs": [],
   "source": []
  }
 ],
 "metadata": {
  "kernelspec": {
   "display_name": "ma",
   "language": "python",
   "name": "python3"
  },
  "language_info": {
   "codemirror_mode": {
    "name": "ipython",
    "version": 3
   },
   "file_extension": ".py",
   "mimetype": "text/x-python",
   "name": "python",
   "nbconvert_exporter": "python",
   "pygments_lexer": "ipython3",
   "version": "3.9.16"
  }
 },
 "nbformat": 4,
 "nbformat_minor": 2
}
